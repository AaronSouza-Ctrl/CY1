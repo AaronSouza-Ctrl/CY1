{
 "cells": [
  {
   "cell_type": "code",
   "execution_count": 188,
   "id": "db4cb8ea-3e48-4694-81b3-6f4f232f6cb4",
   "metadata": {},
   "outputs": [
    {
     "name": "stdout",
     "output_type": "stream",
     "text": [
      "Endereço Completo: Avenida Winston Churchill, Capão Raso - CEP: 81130-000\n"
     ]
    }
   ],
   "source": [
    "# Criando objetos\n",
    "\n",
    "class Casa():\n",
    "    rua = 'Avenida Winston Churchill'\n",
    "    bairro = 'Capão Raso'\n",
    "    CEP = '81130-000'\n",
    "\n",
    "    def enderecoCompleto(self):\n",
    "        return 'Endereço Completo: {}, {} - CEP: {}'.format(self.rua, self.bairro, self.CEP)\n",
    "\n",
    "\n",
    "# Programa principal\n",
    "casa1 = Casa()\n",
    "print(casa1.enderecoCompleto())"
   ]
  },
  {
   "cell_type": "code",
   "execution_count": null,
   "id": "9f44e9a5-987f-472e-b5c5-bab3617c732e",
   "metadata": {},
   "outputs": [],
   "source": [
    "# Verificando a classe dos objetos\n",
    "\n",
    "numero = 1\n",
    "print(type("
   ]
  },
  {
   "cell_type": "code",
   "execution_count": 191,
   "id": "8ece1028-425f-428e-8487-9c8d20b900da",
   "metadata": {},
   "outputs": [
    {
     "name": "stdout",
     "output_type": "stream",
     "text": [
      "Endereço Completo: Av. Winston Churchill, Capão Raso - CEP: 81130-000\n",
      "Endereço Completo: Av. Sete de Setembro, Centro - CEP: 80060-070\n",
      "Endereço Completo: Av. Tertuliano Ferreira de Souza, Dom Rodrigo - CEP: 83075-582\n"
     ]
    }
   ],
   "source": [
    "# Método inicializador\n",
    "\n",
    "class Casa():\n",
    "\n",
    "    def __init__(self, rua, bairro, CEP):\n",
    "        self.rua = rua\n",
    "        self.bairro = bairro\n",
    "        self.CEP = CEP\n",
    "\n",
    "    def enderecoCompleto(self):\n",
    "        return 'Endereço Completo: {}, {} - CEP: {}'.format(self.rua, self.bairro, self.CEP)\n",
    "\n",
    "\n",
    "# Programa principal\n",
    "#Instanciando 2 objetos diferentes\n",
    "\n",
    "casa1 = Casa(rua = 'Av. Winston Churchill', bairro = 'Capão Raso', CEP = '81130-000')\n",
    "casa2 = Casa(rua = 'Av. Sete de Setembro', bairro = 'Centro', CEP = '80060-070')\n",
    "casa3 = Casa(rua = 'Av. Tertuliano Ferreira de Souza', bairro = 'Dom Rodrigo', CEP = '83075-582')\n",
    "print(casa1.enderecoCompleto())\n",
    "print(casa2.enderecoCompleto())\n",
    "print(casa3.enderecoCompleto())"
   ]
  },
  {
   "cell_type": "code",
   "execution_count": 205,
   "id": "4041be94-8932-405e-b999-506007039d10",
   "metadata": {},
   "outputs": [
    {
     "name": "stdin",
     "output_type": "stream",
     "text": [
      "Qual é o seu personagem? ujgjlikhl\n"
     ]
    },
    {
     "name": "stdout",
     "output_type": "stream",
     "text": [
      "Prazer, ujgjlikhl. Você entrou no calabouço!\n",
      "~~~~~~~~~~~~~~~~~~~~~~~~~~~~~~~~~~~~~~~~~~~~~~~~~~\n",
      "Cuidado. Inimigos também entraram no Calabouço!\n",
      "~~~~~~~~~~~~~~~~~~~~~~~~~~~~~~~~~~~~~~~~~~~~~~~~~~\n",
      "\n",
      "                Opções:\n",
      "                [1] Mover-se para a próxima sala\n",
      "                [2] Mostrar Status\n",
      "                [3] Procurar Itens\n",
      "                [4] Sair\n",
      "                \n"
     ]
    },
    {
     "name": "stdin",
     "output_type": "stream",
     "text": [
      "Qual a sua opção? 3\n"
     ]
    },
    {
     "name": "stdout",
     "output_type": "stream",
     "text": [
      "Você pegou um(a) Escudo.\n",
      "\n",
      "                Opções:\n",
      "                [1] Mover-se para a próxima sala\n",
      "                [2] Mostrar Status\n",
      "                [3] Procurar Itens\n",
      "                [4] Sair\n",
      "                \n"
     ]
    },
    {
     "name": "stdin",
     "output_type": "stream",
     "text": [
      "Qual a sua opção? 3\n"
     ]
    },
    {
     "name": "stdout",
     "output_type": "stream",
     "text": [
      "Você pegou um(a) Poção de vida.\n",
      "\n",
      "                Opções:\n",
      "                [1] Mover-se para a próxima sala\n",
      "                [2] Mostrar Status\n",
      "                [3] Procurar Itens\n",
      "                [4] Sair\n",
      "                \n"
     ]
    },
    {
     "name": "stdin",
     "output_type": "stream",
     "text": [
      "Qual a sua opção? 3\n"
     ]
    },
    {
     "name": "stdout",
     "output_type": "stream",
     "text": [
      "Você pegou um(a) Escudo.\n",
      "\n",
      "                Opções:\n",
      "                [1] Mover-se para a próxima sala\n",
      "                [2] Mostrar Status\n",
      "                [3] Procurar Itens\n",
      "                [4] Sair\n",
      "                \n"
     ]
    },
    {
     "name": "stdin",
     "output_type": "stream",
     "text": [
      "Qual a sua opção? 3\n"
     ]
    },
    {
     "name": "stdout",
     "output_type": "stream",
     "text": [
      "Você pegou um(a) Escudo.\n",
      "\n",
      "                Opções:\n",
      "                [1] Mover-se para a próxima sala\n",
      "                [2] Mostrar Status\n",
      "                [3] Procurar Itens\n",
      "                [4] Sair\n",
      "                \n"
     ]
    },
    {
     "name": "stdin",
     "output_type": "stream",
     "text": [
      "Qual a sua opção? 3\n"
     ]
    },
    {
     "name": "stdout",
     "output_type": "stream",
     "text": [
      "Você pegou um(a) Espada.\n",
      "\n",
      "                Opções:\n",
      "                [1] Mover-se para a próxima sala\n",
      "                [2] Mostrar Status\n",
      "                [3] Procurar Itens\n",
      "                [4] Sair\n",
      "                \n"
     ]
    },
    {
     "name": "stdin",
     "output_type": "stream",
     "text": [
      "Qual a sua opção? 3\n"
     ]
    },
    {
     "name": "stdout",
     "output_type": "stream",
     "text": [
      "Você pegou um(a) Poção de vida.\n",
      "\n",
      "                Opções:\n",
      "                [1] Mover-se para a próxima sala\n",
      "                [2] Mostrar Status\n",
      "                [3] Procurar Itens\n",
      "                [4] Sair\n",
      "                \n"
     ]
    },
    {
     "name": "stdin",
     "output_type": "stream",
     "text": [
      "Qual a sua opção? 4\n"
     ]
    },
    {
     "name": "stdout",
     "output_type": "stream",
     "text": [
      "Obrigado por jogar. Volte Sempre!\n"
     ]
    }
   ],
   "source": [
    "# RPG\n",
    "\n",
    "import random\n",
    "\n",
    "class Jogador():\n",
    "\n",
    "    def __init__(self, nome):\n",
    "        self.nome = nome\n",
    "        self.vida = 50\n",
    "        self.ataque = 15\n",
    "        self.defesa = 5\n",
    "        self.item = []\n",
    "\n",
    "    def mostrarStatus(self):\n",
    "        print('Vida: {}'.format(self.vida))\n",
    "        print('Ataque: {}'.format(self.ataque))\n",
    "        print('Defesa: {}'.format(self.defesa))\n",
    "\n",
    "    def pegarItem(self, item_encontrado):\n",
    "        self.item.append(item_encontrado)\n",
    "        print('Você pegou um(a) {}.'.format(item_encontrado))\n",
    "\n",
    "class Inimigo():\n",
    "\n",
    "    def __init__(self, nome, vida, ataque, defesa):\n",
    "        self.nome = nome\n",
    "        self.vida = vida\n",
    "        self.ataque = ataque\n",
    "        self.defesa = defesa\n",
    "\n",
    "class Calabouço():\n",
    "\n",
    "    def __init__(self, jogador, inimigos):\n",
    "        self.jogador = jogador\n",
    "        self.inimigo = random.choice\n",
    "        self.itens = ['Espada', 'Escudo', 'Poção de vida']\n",
    "\n",
    "    def jogar (self):\n",
    "        while True:\n",
    "            print('''\n",
    "                Opções:\n",
    "                [1] Mover-se para a próxima sala\n",
    "                [2] Mostrar Status\n",
    "                [3] Procurar Itens\n",
    "                [4] Sair\n",
    "                ''')\n",
    "            opcao = input('Qual a sua opção?')\n",
    "\n",
    "            if opcao == '1':\n",
    "                self.enfrentarInimigo()\n",
    "            elif opcao == '2':\n",
    "                self.jogador.mostrarStatus()\n",
    "            elif opcao == '3':\n",
    "                self.procurarItem()\n",
    "            elif opcao == '4':\n",
    "                print('Obrigado por jogar. Volte Sempre!')\n",
    "                break\n",
    "            else:\n",
    "                print('Opção inválida. Digite novamente!')\n",
    "\n",
    "    def enfrentarInimigo(self):\n",
    "        print('Você derrotou o inimigo.')\n",
    "\n",
    "    def procurarItem(self):\n",
    "        item_encontrado = random.choice(self.itens)\n",
    "        self.jogador.pegarItem(item_encontrado)\n",
    "        \n",
    "\n",
    "# Programa principal\n",
    "nome_jogador = input('Qual é o seu personagem?')\n",
    "print('Prazer, {}. Você entrou no calabouço!'.format(nome_jogador))\n",
    "jogador = Jogador(nome_jogador)\n",
    "inimigos = [Inimigo('Goblin', 20, 15, 8), Inimigo('Esqueleto', 15, 12, 7),  Inimigo('Ogro', 13, 10, 6)]\n",
    "print('~' *50)\n",
    "print('Cuidado. Inimigos também entraram no Calabouço!')\n",
    "print('~' *50)\n",
    "jogo = Calabouço(jogador, inimigos)\n",
    "jogo.jogar()"
   ]
  }
 ],
 "metadata": {
  "kernelspec": {
   "display_name": "Python 3 (ipykernel)",
   "language": "python",
   "name": "python3"
  },
  "language_info": {
   "codemirror_mode": {
    "name": "ipython",
    "version": 3
   },
   "file_extension": ".py",
   "mimetype": "text/x-python",
   "name": "python",
   "nbconvert_exporter": "python",
   "pygments_lexer": "ipython3",
   "version": "3.12.4"
  }
 },
 "nbformat": 4,
 "nbformat_minor": 5
}
