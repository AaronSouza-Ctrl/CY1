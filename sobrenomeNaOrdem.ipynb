{
 "cells": [
  {
   "cell_type": "code",
   "execution_count": 2,
   "id": "f8383ff4-1ee2-4c8f-82fc-ee1dc31f7674",
   "metadata": {},
   "outputs": [
    {
     "name": "stdout",
     "output_type": "stream",
     "text": [
      "José Dias Saraiva\n",
      "João Silva Madureira\n",
      "Aaron Plínio Aguiar de Souza\n"
     ]
    }
   ],
   "source": [
    "def sobrenomeNaOrdem(nome, sobrenome1, sobrenome2):\n",
    "    if len(sobrenome2) > len(sobrenome1):\n",
    "        return '{} {} {}'.format(nome, sobrenome1, sobrenome2)\n",
    "    else:\n",
    "        return '{} {} {}'.format(nome, sobrenome2, sobrenome1)\n",
    "\n",
    "print(sobrenomeNaOrdem('José', 'Dias', 'Saraiva'))\n",
    "print(sobrenomeNaOrdem('João', 'Madureira', 'Silva'))\n",
    "print(sobrenomeNaOrdem('Aaron Plínio', 'Aguiar', 'de Souza'))"
   ]
  }
 ],
 "metadata": {
  "kernelspec": {
   "display_name": "Python 3 (ipykernel)",
   "language": "python",
   "name": "python3"
  },
  "language_info": {
   "codemirror_mode": {
    "name": "ipython",
    "version": 3
   },
   "file_extension": ".py",
   "mimetype": "text/x-python",
   "name": "python",
   "nbconvert_exporter": "python",
   "pygments_lexer": "ipython3",
   "version": "3.12.4"
  }
 },
 "nbformat": 4,
 "nbformat_minor": 5
}
