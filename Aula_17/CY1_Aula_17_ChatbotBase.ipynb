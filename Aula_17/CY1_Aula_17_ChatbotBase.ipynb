{
 "cells": [
  {
   "cell_type": "code",
   "execution_count": 86,
   "id": "0e2bb468-231d-48a7-9f49-f6110a3428d3",
   "metadata": {},
   "outputs": [
    {
     "name": "stdout",
     "output_type": "stream",
     "text": [
      "fim\n"
     ]
    },
    {
     "data": {
      "text/plain": [
       "'fim'"
      ]
     },
     "execution_count": 86,
     "metadata": {},
     "output_type": "execute_result"
    }
   ],
   "source": [
    "def saudacoes(nome):\n",
    "    import random\n",
    "    frases = ['Bom dia! Meu nome é {}. Como vai você?'.format(nome), 'Olá!', 'Oi, tudo bem?']\n",
    "    print(frases[random.randint(0, 2)])\n",
    "\n",
    "def recebeTexto():\n",
    "    texto = 'Cliente: ' + input('Cliente: ')\n",
    "    palavraProibida = ['bocó', 'bobo', 'fdp', 'saas', 'pneumonia', 'PNEUMOULTRAMICROSCOPICOSSILICOVULCANOCONIOSE']\n",
    "    for p in palavraProibida:\n",
    "        if p in texto:\n",
    "            print('Não vem não! Me respeite!')\n",
    "            return recebeTexto()\n",
    "    return texto\n",
    "\n",
    "def buscaResposta(nome, texto):\n",
    "    with open('CY1_Aula_17_BaseConhecimento.txt', 'a+') as conhecimento:\n",
    "        conhecimento.seek(0)\n",
    "        while True:\n",
    "            viu = conhecimento.readline()\n",
    "            if viu != '':\n",
    "                if texto.replace('Cliente: ', '') == 'Tchau':\n",
    "                    print('{}: volte sempre!'.format(nome))\n",
    "                    return 'fim'\n",
    "                elif viu.strip() == texto.strip():\n",
    "                    proximaLinha = conhecimento.readline()\n",
    "                    if 'Chatbot: ' in proximaLinha:\n",
    "                        return proximaLinha\n",
    "            else:\n",
    "                print('{}: Me desculpe, não sei o que falar'.format(nome))\n",
    "                conhecimento.write('\\n{}'.format(texto))\n",
    "                resposta_user = input('{}: O que esperava?\\n'.format(nome))\n",
    "                conhecimento.write('\\nChatbot: {}'.format(resposta_user))\n",
    "                return 'Hum...'\n",
    "\n",
    "def exibeResposta(resposta, nome):\n",
    "    print(resposta.replace('Chatbot', nome))\n",
    "    if resposta == 'fim':\n",
    "        return 'fim'\n",
    "    return 'continua'"
   ]
  }
 ],
 "metadata": {
  "kernelspec": {
   "display_name": "Python 3 (ipykernel)",
   "language": "python",
   "name": "python3"
  },
  "language_info": {
   "codemirror_mode": {
    "name": "ipython",
    "version": 3
   },
   "file_extension": ".py",
   "mimetype": "text/x-python",
   "name": "python",
   "nbconvert_exporter": "python",
   "pygments_lexer": "ipython3",
   "version": "3.12.4"
  }
 },
 "nbformat": 4,
 "nbformat_minor": 5
}
