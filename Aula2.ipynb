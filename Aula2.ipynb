{
 "cells": [
  {
   "cell_type": "code",
   "execution_count": 2,
   "id": "d6a6111b-375d-42ba-a22c-75fa14792ed7",
   "metadata": {},
   "outputs": [
    {
     "name": "stdout",
     "output_type": "stream",
     "text": [
      "\n",
      " Eu sou o Douglas\n"
     ]
    }
   ],
   "source": [
    "print('\\n Eu sou o Douglas')"
   ]
  },
  {
   "cell_type": "code",
   "execution_count": 5,
   "id": "272f4ca2-57b4-4bb8-ac18-2060a576d386",
   "metadata": {},
   "outputs": [
    {
     "name": "stdout",
     "output_type": "stream",
     "text": [
      " Natação \n",
      "    x \n",
      " Ciclismo \n",
      "    x \n",
      " Corrida\n"
     ]
    }
   ],
   "source": [
    "print(' Natação \\n    x \\n Ciclismo \\n    x \\n Corrida')"
   ]
  },
  {
   "cell_type": "code",
   "execution_count": 21,
   "id": "86a1327c-7b1f-4e90-992f-6a1259cea655",
   "metadata": {},
   "outputs": [
    {
     "name": "stdout",
     "output_type": "stream",
     "text": [
      "54\n",
      "Ort cptp:aç,iio rd\n",
      "30\n",
      "8\n"
     ]
    }
   ],
   "source": [
    "frase = 'O Triatlo é composto por: natação, ciclismo e corrida.'\n",
    "print(len(frase))\n",
    "\n",
    "print(frase[ : :3])\n",
    "print(frase.find('ç'))\n",
    "print(frase.count('o'))"
   ]
  },
  {
   "cell_type": "code",
   "execution_count": 23,
   "id": "55e4016a-ed5a-4337-ba81-7222899cabef",
   "metadata": {},
   "outputs": [
    {
     "name": "stdout",
     "output_type": "stream",
     "text": [
      "AaronSouza\n"
     ]
    }
   ],
   "source": [
    "nome = 'Aaron'\n",
    "sobrenome = 'Souza'\n",
    "print(nome+sobrenome)"
   ]
  },
  {
   "cell_type": "code",
   "execution_count": 24,
   "id": "a5454d2c-6e91-4cb9-9b8d-843494c5c802",
   "metadata": {},
   "outputs": [
    {
     "name": "stdout",
     "output_type": "stream",
     "text": [
      "=~=~=~=~=~=~=~=~=~=~=~=~=~=~=~=~=~=~=~=~=~=~=~=~=~=~=~=~=~=~\n",
      "Programa\n",
      "=~=~=~=~=~=~=~=~=~=~=~=~=~=~=~=~=~=~=~=~=~=~=~=~=~=~=~=~=~=~\n"
     ]
    }
   ],
   "source": [
    "inutilidade = '=~'\n",
    "utilidade = 'Programa'\n",
    "print(inutilidade * 30)\n",
    "print(utilidade)\n",
    "print(inutilidade * 30)"
   ]
  },
  {
   "cell_type": "code",
   "execution_count": 31,
   "id": "134de637-1afa-46f6-a746-52389cbb7a0a",
   "metadata": {},
   "outputs": [
    {
     "name": "stdout",
     "output_type": "stream",
     "text": [
      "                    O TRIATLO É COMPOSTO POR: NATAÇÃO, CICLISMO E CORRIDA.            P        \n",
      "                    o triatlo é composto por: natação, ciclismo e corrida.            p        \n",
      "['O', 'Triatlo', 'é', 'composto', 'por:', 'natação,', 'ciclismo', 'e', 'corrida.', 'p']\n",
      "O Triatlo é composto por: natação, ciclismo e corrida.            p\n"
     ]
    }
   ],
   "source": [
    "frase = '                    O Triatlo é composto por: natação, ciclismo e corrida.                    '\n",
    "print(frase.upper())\n",
    "print(frase.lower())\n",
    "print(frase.split())\n",
    "print(frase.strip())"
   ]
  },
  {
   "cell_type": "code",
   "execution_count": 42,
   "id": "ccb963d0-5670-4abd-99be-e703fb886871",
   "metadata": {},
   "outputs": [
    {
     "name": "stdin",
     "output_type": "stream",
     "text": [
      "Qual é o seu nome completo? Aaron Plínio Aguiar de Souza\n"
     ]
    },
    {
     "name": "stdout",
     "output_type": "stream",
     "text": [
      "Seu primeiro nome é \"Aaron\".\n",
      "Seu sobrenome completo é \"Plínio Aguiar de Souza\".\n",
      "Seu último nome é \"Souza\".\n"
     ]
    }
   ],
   "source": [
    "# Desafio 2\n",
    "nome = input('Qual é o seu nome completo?').strip()\n",
    "primeiro = nome.find(' ')\n",
    "sobrenome = primeiro + 1\n",
    "último = nome.rfind(' ')\n",
    "print('Seu primeiro nome é \"{}\".'.format(nome[0:primeiro]))\n",
    "print('Seu sobrenome completo é \"{}\".'.format(nome[sobrenome:]))\n",
    "print('Seu último nome é \"{}\".'.format(nome[último+1:]))"
   ]
  },
  {
   "cell_type": "code",
   "execution_count": 49,
   "id": "7dae772c-0b58-4bfd-ab7c-3b4780811114",
   "metadata": {},
   "outputs": [
    {
     "name": "stdin",
     "output_type": "stream",
     "text": [
      "Qual o nome da sua cidade? santo antônio\n"
     ]
    },
    {
     "name": "stdout",
     "output_type": "stream",
     "text": [
      "Sua cidade é santa. Você está com Deus.\n"
     ]
    }
   ],
   "source": [
    "# Tarefa\n",
    "cidade = input('Qual o nome da sua cidade?').strip().upper()\n",
    "confirma_santos = cidade[0:5]\n",
    "if confirma_santos == 'SANTO':\n",
    "    print('Sua cidade é santa. Você está com Deus.')\n",
    "else:\n",
    "    print('Sua cidade não é santa. Você está longe de Deus.')"
   ]
  }
 ],
 "metadata": {
  "kernelspec": {
   "display_name": "Python 3 (ipykernel)",
   "language": "python",
   "name": "python3"
  },
  "language_info": {
   "codemirror_mode": {
    "name": "ipython",
    "version": 3
   },
   "file_extension": ".py",
   "mimetype": "text/x-python",
   "name": "python",
   "nbconvert_exporter": "python",
   "pygments_lexer": "ipython3",
   "version": "3.12.4"
  }
 },
 "nbformat": 4,
 "nbformat_minor": 5
}
