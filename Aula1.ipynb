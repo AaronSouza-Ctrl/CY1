{
 "cells": [
  {
   "cell_type": "code",
   "execution_count": 1,
   "id": "5fa748e0-ed9f-4e9e-90bb-b1a467d6a554",
   "metadata": {},
   "outputs": [
    {
     "data": {
      "text/plain": [
       "5"
      ]
     },
     "execution_count": 1,
     "metadata": {},
     "output_type": "execute_result"
    }
   ],
   "source": [
    "1 + 4"
   ]
  },
  {
   "cell_type": "code",
   "execution_count": 2,
   "id": "8906d1b0-9d20-4962-8313-d6f777a74ade",
   "metadata": {},
   "outputs": [
    {
     "data": {
      "text/plain": [
       "int"
      ]
     },
     "execution_count": 2,
     "metadata": {},
     "output_type": "execute_result"
    }
   ],
   "source": [
    "type(5)"
   ]
  },
  {
   "cell_type": "code",
   "execution_count": 3,
   "id": "0e022da1-dc32-4062-93a5-460ef2d73cb0",
   "metadata": {},
   "outputs": [
    {
     "data": {
      "text/plain": [
       "str"
      ]
     },
     "execution_count": 3,
     "metadata": {},
     "output_type": "execute_result"
    }
   ],
   "source": [
    "type('5')"
   ]
  },
  {
   "cell_type": "code",
   "execution_count": 15,
   "id": "1ec35d26-88c3-4147-a70e-d8415c17f9e8",
   "metadata": {},
   "outputs": [
    {
     "data": {
      "text/plain": [
       "20"
      ]
     },
     "execution_count": 15,
     "metadata": {},
     "output_type": "execute_result"
    }
   ],
   "source": [
    "número = 10\n",
    "número + número"
   ]
  },
  {
   "cell_type": "code",
   "execution_count": 20,
   "id": "f0c1f73f-b337-4a08-a998-d5c626c8a864",
   "metadata": {},
   "outputs": [
    {
     "name": "stdin",
     "output_type": "stream",
     "text": [
      "Digite um número 6\n"
     ]
    },
    {
     "name": "stdout",
     "output_type": "stream",
     "text": [
      "O antecessor do número dado é 5\n",
      "O sucessor do número dado é 7\n",
      "O antecessor do número dado é 5\n"
     ]
    }
   ],
   "source": [
    "número = int(input('Digite um número'))\n",
    "ant = número - 1\n",
    "suc = número + 1\n",
    "print('O antecessor do número dado é {}'.format(número - 1))\n",
    "print('O sucessor do número dado é {}'.format(número + 1))\n",
    "print(f'O antecessor do número dado é {ant}')"
   ]
  }
 ],
 "metadata": {
  "kernelspec": {
   "display_name": "Python 3 (ipykernel)",
   "language": "python",
   "name": "python3"
  },
  "language_info": {
   "codemirror_mode": {
    "name": "ipython",
    "version": 3
   },
   "file_extension": ".py",
   "mimetype": "text/x-python",
   "name": "python",
   "nbconvert_exporter": "python",
   "pygments_lexer": "ipython3",
   "version": "3.12.4"
  }
 },
 "nbformat": 4,
 "nbformat_minor": 5
}
