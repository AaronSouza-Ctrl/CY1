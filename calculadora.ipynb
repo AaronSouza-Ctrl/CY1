{
 "cells": [
  {
   "cell_type": "code",
   "execution_count": null,
   "id": "05230936-4216-4bd4-a12e-fbdcc3dbfe48",
   "metadata": {},
   "outputs": [],
   "source": [
    "def soma(x, y):\n",
    "    \"\"\"\n",
    "    param x = primeiro número\n",
    "    param y = segundo número\n",
    "    faz a soma entre x e y\n",
    "    Ex soma(1, 2) = 3\n",
    "    \"\"\"\n",
    "    return x + y\n",
    "def sub(x, y):\n",
    "    return x - y\n",
    "\n",
    "def mult(x, y):\n",
    "    return x * y\n",
    "\n",
    "def div(x, y):\n",
    "    return x / y"
   ]
  }
 ],
 "metadata": {
  "kernelspec": {
   "display_name": "Python 3 (ipykernel)",
   "language": "python",
   "name": "python3"
  },
  "language_info": {
   "codemirror_mode": {
    "name": "ipython",
    "version": 3
   },
   "file_extension": ".py",
   "mimetype": "text/x-python",
   "name": "python",
   "nbconvert_exporter": "python",
   "pygments_lexer": "ipython3",
   "version": "3.12.4"
  }
 },
 "nbformat": 4,
 "nbformat_minor": 5
}
