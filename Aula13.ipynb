{
 "cells": [
  {
   "cell_type": "code",
   "execution_count": 4,
   "id": "504d1702-80f7-497e-b544-0684d7af7ff9",
   "metadata": {},
   "outputs": [
    {
     "name": "stdout",
     "output_type": "stream",
     "text": [
      "100\n",
      "35\n",
      "25\n",
      "100\n",
      "15\n",
      "100\n",
      "35\n",
      "25\n",
      "50\n"
     ]
    }
   ],
   "source": [
    "class Jogador():\n",
    "    vida = 100\n",
    "    __ataque = 35\n",
    "    __defesa = 25\n",
    "\n",
    "    def __init__(self):\n",
    "        print(self.vida)\n",
    "        print(self.__ataque)\n",
    "        print(self.__defesa)\n",
    "\n",
    "    def setAtaque(self, a):\n",
    "        self.__ataque = a\n",
    "\n",
    "    def getAtaque(self):\n",
    "        return self.__ataque\n",
    "\n",
    "# Programa principal\n",
    "objeto1 = Jogador()\n",
    "print(objeto1.vida)\n",
    "objeto1.setAtaque(15)\n",
    "print(objeto1.getAtaque())\n",
    "cavaleiro = Jogador()\n",
    "cavaleiro.setAtaque(50)\n",
    "print(cavaleiro.getAtaque())"
   ]
  },
  {
   "cell_type": "code",
   "execution_count": 6,
   "id": "195565f4-3f84-4cd9-b9f6-0f3167e8ced0",
   "metadata": {},
   "outputs": [
    {
     "name": "stdout",
     "output_type": "stream",
     "text": [
      "Animal Criado\n",
      "T_Rex Criado\n",
      "T_Rex\n",
      "Comendo\n",
      "Rugindo\n"
     ]
    }
   ],
   "source": [
    "class Animal():\n",
    "\n",
    "    def __init__(self):\n",
    "        print('Animal Criado')\n",
    "\n",
    "    def oQueSou(self):\n",
    "        print('Animal')\n",
    "\n",
    "    def come(self):\n",
    "        print('Comendo')\n",
    "\n",
    "class T_Rex(Animal):\n",
    "\n",
    "    def __init__(self):\n",
    "        Animal.__init__(self)\n",
    "        print('T_Rex Criado')\n",
    "    \n",
    "    def oQueSou(self):\n",
    "        print('T_Rex')\n",
    "\n",
    "    def ruge(self):\n",
    "        print('Rugindo')\n",
    "\n",
    "# Programa principal\n",
    "dino = T_Rex()\n",
    "dino.oQueSou()\n",
    "dino.come()\n",
    "dino.ruge()"
   ]
  },
  {
   "cell_type": "code",
   "execution_count": 7,
   "id": "925a5d29-29e3-499f-a7c0-bf8aa0f7628f",
   "metadata": {},
   "outputs": [
    {
     "name": "stdout",
     "output_type": "stream",
     "text": [
      "carro 1 ton Corre\n",
      "avião 50 ton Voa\n",
      "navio 120 ton Nada\n",
      "bumblebee 75 ton Corre e pula\n"
     ]
    }
   ],
   "source": [
    "class MeioDeTransporte():\n",
    "\n",
    "    def __init__(self, tipo, peso):\n",
    "        self.tipo = tipo\n",
    "        self.peso = peso\n",
    "\n",
    "    def mover(self):\n",
    "        pass\n",
    "\n",
    "class Rodoviario(MeioDeTransporte):\n",
    "\n",
    "    def mover(self):\n",
    "        return 'Corre'\n",
    "\n",
    "class Aereo(MeioDeTransporte):\n",
    "\n",
    "    def mover(self):\n",
    "        return 'Voa'\n",
    "\n",
    "class Maritimo(MeioDeTransporte):\n",
    "\n",
    "    def mover(self):\n",
    "        return 'Nada'\n",
    "\n",
    "class Transformer(MeioDeTransporte):\n",
    "    def mover(self):\n",
    "        return 'Corre e pula'\n",
    "\n",
    "# Progama principal\n",
    "c = Rodoviario('carro', '1 ton')\n",
    "print(c.tipo, c.peso, c.mover())\n",
    "\n",
    "a = Aereo('avião', '50 ton')\n",
    "print(a.tipo, a.peso, a.mover())\n",
    "\n",
    "n = Maritimo('navio', '120 ton')\n",
    "print(n.tipo, n.peso, n.mover())\n",
    "\n",
    "b = Transformer('bumblebee', '75 ton')\n",
    "print(b.tipo, b.peso, b.mover())"
   ]
  },
  {
   "cell_type": "code",
   "execution_count": 13,
   "id": "d44835e8-7f7b-4d2d-8e96-d73474a4a66b",
   "metadata": {},
   "outputs": [
    {
     "name": "stdin",
     "output_type": "stream",
     "text": [
      " vertebrado\n",
      " mamífero\n",
      " onívoro\n"
     ]
    },
    {
     "name": "stdout",
     "output_type": "stream",
     "text": [
      "Homem\n"
     ]
    }
   ],
   "source": [
    "# Desafio 1\n",
    "class Animal():\n",
    "\n",
    "    def __init__(self, filo, classificacao, ordem):\n",
    "        self.filo = filo\n",
    "        self.classificacao =classificacao\n",
    "        self.ordem = ordem\n",
    "\n",
    "    def conclusao(self):\n",
    "        pass\n",
    "\n",
    "class Vertebrados(Animal):\n",
    "\n",
    "    def __init__(self, filo, classificacao, ordem):\n",
    "        super().__init__(filo, classificacao, ordem)\n",
    "\n",
    "    def conclusao(self):\n",
    "        if self.classificacao == 'ave':\n",
    "            if self.ordem == 'carnívoro':\n",
    "                print('Águia')\n",
    "            if self.ordem == 'onívoro':\n",
    "                print('Pomba')\n",
    "        if self.classificacao == 'mamífero':\n",
    "            if self.ordem == 'onívoro':\n",
    "                print('Homem')\n",
    "            if self.ordem == 'herbívoro':\n",
    "                print('Vaca')\n",
    "\n",
    "class Invertebrados(Animal):\n",
    "    def __init__(self, filo, classificacao, ordem):\n",
    "        super().__init__(filo, classificacao, ordem)\n",
    "\n",
    "    def conclusao(self):\n",
    "        if self.classificacao == 'inseto':\n",
    "            if self.ordem == 'hematófogo':\n",
    "                print('Pulga')\n",
    "            if self.ordem == 'herbívoro':\n",
    "                print('Lagarta')\n",
    "        if self. classificacao == 'anelídeo':\n",
    "            if self.ordem == 'hematófago':\n",
    "                print('Sanguessuga')\n",
    "            if self.ordem == 'onívoro':\n",
    "                print('Minhoca')\n",
    "\n",
    "# Programa principal\n",
    "filo = input()\n",
    "classificacao = input()\n",
    "ordem = input()\n",
    "\n",
    "if filo == 'vertebrado':\n",
    "    animal1 = Vertebrados(filo, classificacao, ordem)\n",
    "    animal1.conclusao()\n",
    "else:\n",
    "    animal1 = Invertebrados(filo, classificacao, ordem)\n",
    "    animal1.conclusao()"
   ]
  },
  {
   "cell_type": "code",
   "execution_count": 6,
   "id": "c2e0741b-7fa5-4af2-b110-1ae8327dc526",
   "metadata": {},
   "outputs": [
    {
     "name": "stdin",
     "output_type": "stream",
     "text": [
      " -2\n"
     ]
    },
    {
     "name": "stdout",
     "output_type": "stream",
     "text": [
      "nota invalida\n"
     ]
    },
    {
     "name": "stdin",
     "output_type": "stream",
     "text": [
      " -1\n"
     ]
    },
    {
     "name": "stdout",
     "output_type": "stream",
     "text": [
      "nota invalida\n"
     ]
    },
    {
     "name": "stdin",
     "output_type": "stream",
     "text": [
      " 8\n",
      " 9\n"
     ]
    },
    {
     "name": "stdout",
     "output_type": "stream",
     "text": [
      "media = 8.50\n"
     ]
    }
   ],
   "source": [
    "# Tarefa de casa\n",
    "\n",
    "class Nota():\n",
    "\n",
    "    def __init__(self, nota, lista):\n",
    "        self.nota = nota\n",
    "        self.lista = lista\n",
    "\n",
    "    def validaNota(self):\n",
    "        while True:\n",
    "            if 0 <= self.nota <= 10:\n",
    "                self.lista.append(self.nota)\n",
    "                break\n",
    "            else:\n",
    "                print('nota invalida')\n",
    "                self.nota = float(input())\n",
    "\n",
    "# Programa principal\n",
    "lista=[]\n",
    "while len(lista) < 2:\n",
    "    nota = float(input())\n",
    "    validacao = Nota(nota, lista)\n",
    "    validacao.validaNota()\n",
    "soma = sum(lista)\n",
    "media = soma / len(lista)\n",
    "print('media = {:.2f}'.format(media))"
   ]
  }
 ],
 "metadata": {
  "kernelspec": {
   "display_name": "Python 3 (ipykernel)",
   "language": "python",
   "name": "python3"
  },
  "language_info": {
   "codemirror_mode": {
    "name": "ipython",
    "version": 3
   },
   "file_extension": ".py",
   "mimetype": "text/x-python",
   "name": "python",
   "nbconvert_exporter": "python",
   "pygments_lexer": "ipython3",
   "version": "3.12.4"
  }
 },
 "nbformat": 4,
 "nbformat_minor": 5
}
