{
 "cells": [
  {
   "cell_type": "code",
   "execution_count": 23,
   "id": "0c2baea8-f3d1-4da8-a075-ec497c5f159e",
   "metadata": {},
   "outputs": [
    {
     "name": "stdout",
     "output_type": "stream",
     "text": [
      "Bem vindo à Ctrl+Play!\n"
     ]
    }
   ],
   "source": [
    "def boas_vindas():\n",
    "    print('Bem vindo à Ctrl+Play!')\n",
    "\n",
    "\n",
    "#Programa principal\n",
    "boas_vindas()"
   ]
  },
  {
   "cell_type": "code",
   "execution_count": 111,
   "id": "3ac7f61c-68b7-404f-9c90-73710fe1d3c6",
   "metadata": {},
   "outputs": [
    {
     "name": "stdout",
     "output_type": "stream",
     "text": [
      "Bem vindo, Aaron, à Ctrl+Play!\n"
     ]
    }
   ],
   "source": [
    "def boas_vindas(nome):\n",
    "    print('Bem vindo, {}, à Ctrl+Play!' .format(nome))\n",
    "\n",
    "\n",
    "#Programa principal\n",
    "boas_vindas('Aaron')"
   ]
  },
  {
   "cell_type": "code",
   "execution_count": 168,
   "id": "f1740622-d417-488d-ae6f-7ded585f7ccd",
   "metadata": {},
   "outputs": [
    {
     "name": "stdout",
     "output_type": "stream",
     "text": [
      "grinch\n",
      "lorax\n",
      "minions\n"
     ]
    }
   ],
   "source": [
    "def filme_favorito(título):\n",
    "    print(título)\n",
    "\n",
    "\n",
    "#Programa principal\n",
    "filme_favorito('grinch')\n",
    "filme_favorito('lorax')\n",
    "filme_favorito('minions')"
   ]
  },
  {
   "cell_type": "code",
   "execution_count": 172,
   "id": "8cc10d8d-2d4a-497a-ab05-5e0381c31bdc",
   "metadata": {},
   "outputs": [
    {
     "name": "stdout",
     "output_type": "stream",
     "text": [
      "50.0\n"
     ]
    }
   ],
   "source": [
    "def velocidade_média(distância, tempo):\n",
    "    print(distância/tempo)\n",
    "\n",
    "\n",
    "#Programa principal\n",
    "velocidade_média(200,4) "
   ]
  },
  {
   "cell_type": "code",
   "execution_count": 200,
   "id": "74629263-2702-4488-8c6e-b2bb33316fa0",
   "metadata": {},
   "outputs": [
    {
     "name": "stdout",
     "output_type": "stream",
     "text": [
      "66.66666666666667\n"
     ]
    }
   ],
   "source": [
    "def velocidade_média(tempo, distância=200):\n",
    "    print(distância/tempo)\n",
    "\n",
    "\n",
    "#Programa principal\n",
    "velocidade_média(4) "
   ]
  },
  {
   "cell_type": "code",
   "execution_count": 210,
   "id": "7e92a3a4-615a-4fda-840d-8cebcc52e682",
   "metadata": {},
   "outputs": [
    {
     "name": "stdout",
     "output_type": "stream",
     "text": [
      "100.0\n"
     ]
    }
   ],
   "source": [
    "def velocidade_média(tempo, distância=200):\n",
    "    print(distância/tempo)\n",
    "\n",
    "\n",
    "#Programa principal\n",
    "velocidade_média(4, 400) "
   ]
  },
  {
   "cell_type": "code",
   "execution_count": 219,
   "id": "546ad54d-0b69-4704-8a23-255f9a2bafd4",
   "metadata": {},
   "outputs": [
    {
     "name": "stdin",
     "output_type": "stream",
     "text": [
      "digite um número 4\n",
      "digite outro número 5\n"
     ]
    },
    {
     "name": "stdout",
     "output_type": "stream",
     "text": [
      "O menor valor entre 4 e 5 é 4\n"
     ]
    }
   ],
   "source": [
    "def menor(x, y):\n",
    "    if x <= y:\n",
    "        return x\n",
    "    else:\n",
    "        return y\n",
    "\n",
    "\n",
    "#Programa principal\n",
    "a=int(input('digite um número'))\n",
    "b=int(input('digite outro número'))\n",
    "print('O menor valor entre {} e {} é {}' .format(a, b, menor(a,b)))"
   ]
  },
  {
   "cell_type": "code",
   "execution_count": 221,
   "id": "06cc1ac4-9263-4214-9a01-13b180300add",
   "metadata": {},
   "outputs": [
    {
     "name": "stdout",
     "output_type": "stream",
     "text": [
      "\n",
      " Preparando um Açaí médio com os seguintes ingredientes: \n",
      "- Banana\n",
      "- Granola\n",
      "\n",
      " Preparando um Açaí grande com os seguintes ingredientes: \n",
      "- Morango\n",
      "- Kiwi\n",
      "- Leite em pó\n",
      "\n",
      " Preparando um Açaí pequeno com os seguintes ingredientes: \n",
      "- Banana\n",
      "\n",
      " Preparando um Açaí pequeno com os seguintes ingredientes: \n",
      "- Kiwi\n",
      "- Granola\n"
     ]
    }
   ],
   "source": [
    "# Passamdo um número arbitrário de argumentos\n",
    "def prepara_acai(*ingredientes, tamanho= 'médio'):\n",
    "    print('\\n Preparando um Açaí {} com os seguintes ingredientes: ' .format(tamanho))\n",
    "    for ingrediente in ingredientes:\n",
    "        print('-', ingrediente)\n",
    "\n",
    "\n",
    "# Programa pricipal\n",
    "prepara_acai('Banana', 'Granola')\n",
    "prepara_acai('Morango', 'Kiwi', 'Leite em pó', tamanho='grande')\n",
    "prepara_acai('Banana', tamanho='pequeno')\n",
    "prepara_acai('Kiwi', 'Granola', tamanho='pequeno')"
   ]
  },
  {
   "cell_type": "code",
   "execution_count": 224,
   "id": "1474dea1-4706-42ed-b399-dfb5cc3fad3f",
   "metadata": {},
   "outputs": [
    {
     "name": "stdout",
     "output_type": "stream",
     "text": [
      "Curitiba está localizada no(a) Brasil\n",
      "Madrid está localizada no(a) Espanha\n",
      "Paris está localizada no(a) França\n"
     ]
    }
   ],
   "source": [
    "def cidadeEpais(cidade, pais='Brasil'):\n",
    "    print('{} está localizada no(a) {}' .format(cidade,pais))\n",
    "\n",
    "\n",
    "# Programa Principal\n",
    "cidadeEpais('Curitiba')\n",
    "cidadeEpais('Madrid', 'Espanha')\n",
    "cidadeEpais('Paris', 'França')"
   ]
  },
  {
   "cell_type": "code",
   "execution_count": 235,
   "id": "a12f5bb5-14ba-4ed7-bef3-53ccfed26445",
   "metadata": {},
   "outputs": [
    {
     "name": "stdin",
     "output_type": "stream",
     "text": [
      " \n"
     ]
    },
    {
     "ename": "IndexError",
     "evalue": "list index out of range",
     "output_type": "error",
     "traceback": [
      "\u001b[1;31m---------------------------------------------------------------------------\u001b[0m",
      "\u001b[1;31mIndexError\u001b[0m                                Traceback (most recent call last)",
      "Cell \u001b[1;32mIn[235], line 8\u001b[0m\n\u001b[0;32m      6\u001b[0m \u001b[38;5;66;03m# Programa principal\u001b[39;00m\n\u001b[0;32m      7\u001b[0m entrada\u001b[38;5;241m=\u001b[39m\u001b[38;5;28minput\u001b[39m()\u001b[38;5;241m.\u001b[39msplit()\n\u001b[1;32m----> 8\u001b[0m A\u001b[38;5;241m=\u001b[39m\u001b[38;5;28mint\u001b[39m(entrada[\u001b[38;5;241m0\u001b[39m])\n\u001b[0;32m      9\u001b[0m B\u001b[38;5;241m=\u001b[39m\u001b[38;5;28mint\u001b[39m(entrada[\u001b[38;5;241m1\u001b[39m])\n\u001b[0;32m     10\u001b[0m C\u001b[38;5;241m=\u001b[39m\u001b[38;5;28mint\u001b[39m(entrada[\u001b[38;5;241m2\u001b[39m])\n",
      "\u001b[1;31mIndexError\u001b[0m: list index out of range"
     ]
    }
   ],
   "source": [
    "def maior(A, B):\n",
    "    maiorAB=(A+B+abs(A-B))/2\n",
    "    return maiorAB\n",
    "\n",
    "\n",
    "# Programa principal\n",
    "entrada=input().split()\n",
    "A=int(entrada[0])\n",
    "B=int(entrada[1])\n",
    "C=int(entrada[2])\n",
    "X=maior(A, B)\n",
    "Y=maior(X, C)\n",
    "print('{:.0f} eh o maior' .format(Y))"
   ]
  },
  {
   "cell_type": "code",
   "execution_count": null,
   "id": "4540ae1d-6624-49c0-b8d1-8dc513f2d8c5",
   "metadata": {},
   "outputs": [],
   "source": [
    "def soma(x, y):\n",
    "    return x+y\n",
    "def sub(x, y):\n",
    "    return x-y\n",
    "    def mul"
   ]
  }
 ],
 "metadata": {
  "kernelspec": {
   "display_name": "Python 3 (ipykernel)",
   "language": "python",
   "name": "python3"
  },
  "language_info": {
   "codemirror_mode": {
    "name": "ipython",
    "version": 3
   },
   "file_extension": ".py",
   "mimetype": "text/x-python",
   "name": "python",
   "nbconvert_exporter": "python",
   "pygments_lexer": "ipython3",
   "version": "3.12.4"
  }
 },
 "nbformat": 4,
 "nbformat_minor": 5
}
