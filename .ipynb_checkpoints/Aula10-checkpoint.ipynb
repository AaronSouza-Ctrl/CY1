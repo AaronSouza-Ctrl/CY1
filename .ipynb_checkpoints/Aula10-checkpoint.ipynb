{
 "cells": [
  {
   "cell_type": "code",
   "execution_count": 8,
   "id": "434843d4-8f3f-4106-899b-db767795ef53",
   "metadata": {},
   "outputs": [
    {
     "name": "stdin",
     "output_type": "stream",
     "text": [
      " 3\n",
      " 9\n"
     ]
    },
    {
     "name": "stdout",
     "output_type": "stream",
     "text": [
      "PROD = 27\n"
     ]
    }
   ],
   "source": [
    "def produto():\n",
    "\n",
    "    x = int(input())\n",
    "    y = int(input())\n",
    "    print('PROD = {}'.format(x * y))\n",
    "\n",
    "produto()"
   ]
  },
  {
   "cell_type": "code",
   "execution_count": 9,
   "id": "65937b16-77ae-4e11-ae1d-4f11a7ed00d8",
   "metadata": {},
   "outputs": [
    {
     "name": "stdout",
     "output_type": "stream",
     "text": [
      "Hello World!\n"
     ]
    }
   ],
   "source": [
    "print('Hello World!')"
   ]
  },
  {
   "cell_type": "code",
   "execution_count": 11,
   "id": "9c8947e9-45d9-488a-b955-cfe31ce9513e",
   "metadata": {},
   "outputs": [
    {
     "name": "stdin",
     "output_type": "stream",
     "text": [
      " 10\n",
      " 9\n"
     ]
    },
    {
     "name": "stdout",
     "output_type": "stream",
     "text": [
      "X = 19\n"
     ]
    }
   ],
   "source": [
    "#1\n",
    "def X():\n",
    "\n",
    "    x = int(input())\n",
    "    y = int(input())\n",
    "    print('X = {}'.format(x + y))\n",
    "\n",
    "X()"
   ]
  },
  {
   "cell_type": "code",
   "execution_count": 18,
   "id": "8ed25f5d-3f28-431f-b81a-deb03cf703dd",
   "metadata": {},
   "outputs": [
    {
     "name": "stdin",
     "output_type": "stream",
     "text": [
      " 2.00\n"
     ]
    },
    {
     "name": "stdout",
     "output_type": "stream",
     "text": [
      "A=12.5664\n"
     ]
    }
   ],
   "source": [
    "#2\n",
    "def A():\n",
    "\n",
    "    n = 3.14159\n",
    "    raio = float(input())\n",
    "    print('A={:.4f}'.format(n * (raio**2)))\n",
    "\n",
    "A()"
   ]
  },
  {
   "cell_type": "code",
   "execution_count": 19,
   "id": "716bfb13-b39a-4472-9b16-c597d61defe6",
   "metadata": {},
   "outputs": [
    {
     "name": "stdin",
     "output_type": "stream",
     "text": [
      " 30\n",
      " 10\n"
     ]
    },
    {
     "name": "stdout",
     "output_type": "stream",
     "text": [
      "SOMA = 40\n"
     ]
    }
   ],
   "source": [
    "#3\n",
    "def SOMA():\n",
    "\n",
    "    x = int(input())\n",
    "    y = int(input())\n",
    "    print('SOMA = {}'.format(x + y))\n",
    "\n",
    "SOMA()"
   ]
  },
  {
   "cell_type": "code",
   "execution_count": 23,
   "id": "4e694b02-f71c-44fd-8689-36efd31e51f0",
   "metadata": {},
   "outputs": [
    {
     "name": "stdin",
     "output_type": "stream",
     "text": [
      " 25\n",
      " 100\n",
      " 5.50\n"
     ]
    },
    {
     "name": "stdout",
     "output_type": "stream",
     "text": [
      "NUMBER = 25\n",
      "SALARY = U$ 550.00\n"
     ]
    }
   ],
   "source": [
    "#4\n",
    "def SALARY():\n",
    "\n",
    "    n = int(input())\n",
    "    h = int(input())\n",
    "    v = float(input())\n",
    "    print('NUMBER = {}'.format(n))\n",
    "    print('SALARY = U$ {:.2f}'.format(h * v))\n",
    "\n",
    "SALARY()"
   ]
  },
  {
   "cell_type": "code",
   "execution_count": 26,
   "id": "a3f9a146-8a5e-4977-b2d5-34e5b92afe31",
   "metadata": {},
   "outputs": [
    {
     "name": "stdin",
     "output_type": "stream",
     "text": [
      " 3.0 4.0 5.2\n"
     ]
    },
    {
     "name": "stdout",
     "output_type": "stream",
     "text": [
      "TRIANGULO: 7.800\n",
      "CIRCULO: 84.949\n",
      "TRAPEZIO: 18.200\n",
      "QUADRADO: 16.000\n",
      "RETANGULO: 12.000\n"
     ]
    }
   ],
   "source": [
    "#5\n",
    "def AREAS():\n",
    "\n",
    "    entrada = input().split()\n",
    "    A = float(entrada[0])\n",
    "    B = float(entrada[1])\n",
    "    C = float(entrada[2])\n",
    "    print('TRIANGULO: {:.3f}'.format((A * C) / 2))\n",
    "    print('CIRCULO: {:.3f}' .format(3.14159 * (C ** 2)))\n",
    "    print('TRAPEZIO: {:.3f}' .format(((A + B) * C) / 2))\n",
    "    print('QUADRADO: {:.3f}' .format(B ** 2))\n",
    "    print('RETANGULO: {:.3f}' .format(A * B))\n",
    "\n",
    "AREAS()"
   ]
  }
 ],
 "metadata": {
  "kernelspec": {
   "display_name": "Python 3 (ipykernel)",
   "language": "python",
   "name": "python3"
  },
  "language_info": {
   "codemirror_mode": {
    "name": "ipython",
    "version": 3
   },
   "file_extension": ".py",
   "mimetype": "text/x-python",
   "name": "python",
   "nbconvert_exporter": "python",
   "pygments_lexer": "ipython3",
   "version": "3.12.4"
  }
 },
 "nbformat": 4,
 "nbformat_minor": 5
}
