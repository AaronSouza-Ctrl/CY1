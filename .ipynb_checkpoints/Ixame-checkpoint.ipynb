{
 "cells": [
  {
   "cell_type": "code",
   "execution_count": null,
   "id": "83651d63-5fb1-4df4-86ec-8fab14671781",
   "metadata": {},
   "outputs": [],
   "source": [
    "class Prova():\n",
    "\n",
    "    def __init__(self):\n",
    "        self.questoes = []\n",
    "        self.respostas = []\n",
    "\n",
    "    def mostra_Questoes(self):\n",
    "        print(self.questoes)\n",
    "\n",
    "    def mostra_Respostas(self):\n",
    "        print(self.respostas)\n",
    "\n",
    "    def armazena_Questao_Resposta(self, novaQuestao, novaResposta):\n",
    "        self.questoes.append(novaQuestao)\n",
    "        self.respostas.append(novaResposta)"
   ]
  }
 ],
 "metadata": {
  "kernelspec": {
   "display_name": "Python 3 (ipykernel)",
   "language": "python",
   "name": "python3"
  },
  "language_info": {
   "codemirror_mode": {
    "name": "ipython",
    "version": 3
   },
   "file_extension": ".py",
   "mimetype": "text/x-python",
   "name": "python",
   "nbconvert_exporter": "python",
   "pygments_lexer": "ipython3",
   "version": "3.12.4"
  }
 },
 "nbformat": 4,
 "nbformat_minor": 5
}
