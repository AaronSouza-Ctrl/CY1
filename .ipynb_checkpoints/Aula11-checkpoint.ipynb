{
 "cells": [
  {
   "cell_type": "code",
   "execution_count": 49,
   "id": "85c3fd5e-0ef1-47b0-80b7-f377804e79fd",
   "metadata": {},
   "outputs": [
    {
     "name": "stdout",
     "output_type": "stream",
     "text": [
      "0\n",
      "1\n",
      "2\n",
      "3\n",
      "4\n",
      "5\n",
      "6\n",
      "7\n",
      "8\n",
      "9\n"
     ]
    }
   ],
   "source": [
    "for cont in range (0, 10):\n",
    "      print(cont)"
   ]
  },
  {
   "cell_type": "code",
   "execution_count": 50,
   "id": "25d5823d-341e-4437-8e23-00e9b0c673db",
   "metadata": {},
   "outputs": [
    {
     "name": "stdout",
     "output_type": "stream",
     "text": [
      "20:18\n"
     ]
    }
   ],
   "source": [
    "print ('20:18')\n",
    "print ('20:24')"
   ]
  },
  {
   "cell_type": "code",
   "execution_count": null,
   "id": "b481e42a-cf67-4892-9202-a50f0a8cf095",
   "metadata": {},
   "outputs": [],
   "source": [
    "def rotacionar(letra, alfabeto):\n",
    "    posicao = alfabeto.find(letra)\n",
    "    return alfabeto[posicao - 13]\n",
    "\n",
    "def minuscula_Ou_Maiuscula(letra):\n",
    "    if letra in minusculas:\n",
    "        return rotacionar(letra, minusculas)\n",
    "\n",
    "    elif letra in maiusculas:\n",
    "        return rotacionar(letra, maiusculas)\n",
    "    \n",
    "    else:\n",
    "        return letra\n",
    "\n",
    "def criptografar(texto):\n",
    "    letra_criptografada=[]\n",
    "    for letra in texto:\n",
    "        letra_criptografada.append(minuscula_Ou_Maiuscula(letra))\n",
    "    texto_criptografado = ''.join(letra_criptografada)\n",
    "    return texto_criptografado\n",
    "        \n",
    "\n",
    "#Programa Principal\n",
    "minusculas = 'abcdefghijklmnopqrstuvwxyz'\n",
    "maiusculas = minusculas.upper()\n",
    "texto = input()\n",
    "print('~'*80)\n",
    "print('Aqui está a seu texto criptografado:')\n",
    "print('~'*80)\n",
    "print(criptografar(texto))"
   ]
  }
 ],
 "metadata": {
  "kernelspec": {
   "display_name": "Python 3 (ipykernel)",
   "language": "python",
   "name": "python3"
  },
  "language_info": {
   "codemirror_mode": {
    "name": "ipython",
    "version": 3
   },
   "file_extension": ".py",
   "mimetype": "text/x-python",
   "name": "python",
   "nbconvert_exporter": "python",
   "pygments_lexer": "ipython3",
   "version": "3.12.4"
  }
 },
 "nbformat": 4,
 "nbformat_minor": 5
}
