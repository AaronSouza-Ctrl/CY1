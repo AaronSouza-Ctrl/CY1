{
 "cells": [
  {
   "cell_type": "code",
   "execution_count": 17,
   "id": "fa33b27d-d86e-4241-b916-451e79c8773a",
   "metadata": {},
   "outputs": [
    {
     "name": "stderr",
     "output_type": "stream",
     "text": [
      "..\n",
      "----------------------------------------------------------------------\n",
      "Ran 2 tests in 0.001s\n",
      "\n",
      "OK\n"
     ]
    },
    {
     "data": {
      "text/plain": [
       "<unittest.main.TestProgram at 0x2211258d640>"
      ]
     },
     "execution_count": 17,
     "metadata": {},
     "output_type": "execute_result"
    }
   ],
   "source": [
    "import unittest\n",
    "from nome import sobrenomeNaOrdem\n",
    "\n",
    "class NomeTest(unittest.TestCase):\n",
    "\n",
    "\n",
    "    def test_sobrenomeNaOrdem(self):\n",
    "\n",
    "        nomeCompleto = sobrenomeNaOrdem('João', 'Madureira', 'Silva')\n",
    "        self.assertEqual(nomeCompleto, 'João Silva Madureira')\n",
    "\n",
    "    def test_sobrenomeNaOrdem1(self):\n",
    "        \n",
    "        nomeCompleto = sobrenomeNaOrdem('Aaron Plínio', 'Aguiar', 'de Souza')\n",
    "        self.assertEqual(nomeCompleto, 'Aaron Plínio Aguiar de Souza')\n",
    "\n",
    "\n",
    "# Programa principal\n",
    "unittest.main(argv=[''], exit=False)\n"
   ]
  },
  {
   "cell_type": "code",
   "execution_count": 18,
   "id": "1dba6d2e-8490-43dc-b6db-f363b226a3bb",
   "metadata": {},
   "outputs": [
    {
     "name": "stderr",
     "output_type": "stream",
     "text": [
      "F.\n",
      "======================================================================\n",
      "FAIL: test_sobrenomeNaOrdem (__main__.NomeTest.test_sobrenomeNaOrdem)\n",
      "----------------------------------------------------------------------\n",
      "Traceback (most recent call last):\n",
      "  File \"C:\\Users\\Pichau\\AppData\\Local\\Temp\\ipykernel_4836\\2597309051.py\", line 10, in test_sobrenomeNaOrdem\n",
      "    self.assertEqual(nomeCompleto, 'João Silva Madereira')\n",
      "AssertionError: 'João Silva Madureira' != 'João Silva Madereira'\n",
      "- João Silva Madureira\n",
      "?               ^\n",
      "+ João Silva Madereira\n",
      "?               ^\n",
      "\n",
      "\n",
      "----------------------------------------------------------------------\n",
      "Ran 2 tests in 0.001s\n",
      "\n",
      "FAILED (failures=1)\n"
     ]
    },
    {
     "data": {
      "text/plain": [
       "<unittest.main.TestProgram at 0x2211258fc80>"
      ]
     },
     "execution_count": 18,
     "metadata": {},
     "output_type": "execute_result"
    }
   ],
   "source": [
    "import unittest\n",
    "from nome import sobrenomeNaOrdem\n",
    "\n",
    "class NomeTest(unittest.TestCase):\n",
    "\n",
    "\n",
    "    def test_sobrenomeNaOrdem(self):\n",
    "\n",
    "        nomeCompleto = sobrenomeNaOrdem('João', 'Madureira', 'Silva')\n",
    "        self.assertEqual(nomeCompleto, 'João Silva Madereira')\n",
    "\n",
    "    def test_sobrenomeNaOrdem1(self):\n",
    "        \n",
    "        nomeCompleto = sobrenomeNaOrdem('Aaron Plínio', 'Aguiar', 'de Souza')\n",
    "        self.assertEqual(nomeCompleto, 'Aaron Plínio Aguiar de Souza')\n",
    "\n",
    "\n",
    "# Programa principal\n",
    "unittest.main(argv=[''], exit=False)\n"
   ]
  },
  {
   "cell_type": "code",
   "execution_count": 21,
   "id": "fc6a9a30-6855-4492-9ded-ffc781e7bd1c",
   "metadata": {},
   "outputs": [
    {
     "name": "stderr",
     "output_type": "stream",
     "text": [
      "..\n",
      "----------------------------------------------------------------------\n",
      "Ran 2 tests in 0.001s\n",
      "\n",
      "OK\n"
     ]
    },
    {
     "data": {
      "text/plain": [
       "<unittest.main.TestProgram at 0x2211258e720>"
      ]
     },
     "execution_count": 21,
     "metadata": {},
     "output_type": "execute_result"
    }
   ],
   "source": [
    "import unittest\n",
    "from nome import sobrenomeNaOrdem\n",
    "\n",
    "class NomeTest(unittest.TestCase):\n",
    "\n",
    "\n",
    "    def test_sobrenomeNaOrdem(self):\n",
    "\n",
    "        nomeCompleto = sobrenomeNaOrdem('João', 'Madureira', 'Silva')\n",
    "        self.assertNotEqual(nomeCompleto, 'João Silva Madereira')\n",
    "\n",
    "    def test_sobrenomeNaOrdem1(self):\n",
    "        \n",
    "        nomeCompleto = sobrenomeNaOrdem('Aaron Plínio', 'Aguiar', 'de Souza')\n",
    "        self.assertEqual(nomeCompleto, 'Aaron Plínio Aguiar de Souza')\n",
    "\n",
    "\n",
    "# Programa principal\n",
    "unittest.main(argv=[''], exit=False)\n"
   ]
  },
  {
   "cell_type": "code",
   "execution_count": 53,
   "id": "c3060c4a-2c0c-449b-a785-c38d2bc8bde5",
   "metadata": {},
   "outputs": [
    {
     "name": "stderr",
     "output_type": "stream",
     "text": [
      "....\n",
      "----------------------------------------------------------------------\n",
      "Ran 4 tests in 0.003s\n",
      "\n",
      "OK\n"
     ]
    },
    {
     "name": "stdout",
     "output_type": "stream",
     "text": [
      "['O que aprendem os alunos da Ctrl+Play?']\n",
      "['Programação, Robótica e muito mais']\n",
      "['O que aprendem os alunos da Ctrl+Play?']\n",
      "['Programação, Robótica e muito mais']\n"
     ]
    },
    {
     "data": {
      "text/plain": [
       "<unittest.main.TestProgram at 0x2211258e480>"
      ]
     },
     "execution_count": 53,
     "metadata": {},
     "output_type": "execute_result"
    }
   ],
   "source": [
    "import unittest\n",
    "from Ixame import Prova\n",
    "\n",
    "class ProvaTest(unittest.TestCase):\n",
    "\n",
    "    def setUp(self):\n",
    "        self.questao = 'O que aprendem os alunos da Ctrl+Play?'\n",
    "        self.resposta = 'Programação, Robótica e muito mais'\n",
    "        self.p = Prova()\n",
    "        self.p.armazena_Questao_Resposta(self.questao, self.resposta)\n",
    "        self.p.mostra_Questoes()\n",
    "        self.p.mostra_Respostas()\n",
    "    \n",
    "    def test_armazenaQuestao(self):\n",
    "        self.assertIn('O que aprendem os alunos da Ctrl+Play?', self.p.questoes)\n",
    "\n",
    "    def test_armazenaResposta(self):\n",
    "        self.assertIn('Programação, Robótica e muito mais', self.p.respostas)\n",
    "\n",
    "unittest.main(argv=[''], exit=False)"
   ]
  }
 ],
 "metadata": {
  "kernelspec": {
   "display_name": "Python 3 (ipykernel)",
   "language": "python",
   "name": "python3"
  },
  "language_info": {
   "codemirror_mode": {
    "name": "ipython",
    "version": 3
   },
   "file_extension": ".py",
   "mimetype": "text/x-python",
   "name": "python",
   "nbconvert_exporter": "python",
   "pygments_lexer": "ipython3",
   "version": "3.12.4"
  }
 },
 "nbformat": 4,
 "nbformat_minor": 5
}
