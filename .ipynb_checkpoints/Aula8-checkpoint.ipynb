{
 "cells": [
  {
   "cell_type": "code",
   "execution_count": 12,
   "id": "ba30f58a-8377-436f-8f60-964d269d0ca0",
   "metadata": {},
   "outputs": [
    {
     "name": "stdout",
     "output_type": "stream",
     "text": [
      "Overwriting texto.txt\n"
     ]
    }
   ],
   "source": [
    "%%writefile texto.txt\n",
    "Ctrl+Play\n",
    "\n",
    "Somos uma escola de pragramacao e robotica\n",
    "Acreditamos que, em um mundo movido pela tecnologia,\n",
    "E importante que os nossos jovens compreendem essas inovacoes\n",
    "E mais que isso, contribuem com a producao destas tecnologias"
   ]
  },
  {
   "cell_type": "code",
   "execution_count": 17,
   "id": "d05ecdd9-9450-408e-9e57-fe45f8a7ee14",
   "metadata": {},
   "outputs": [
    {
     "data": {
      "text/plain": [
       "'Ctrl+Play\\n\\nSomos uma escola de pragramacao e robotica\\nAcreditamos que, em um mundo movido pela tecnologia,\\nE importante que os nossos jovens compreendem essas inovacoes\\nE mais que isso, contribuem com a producao destas tecnologias\\n'"
      ]
     },
     "execution_count": 17,
     "metadata": {},
     "output_type": "execute_result"
    }
   ],
   "source": [
    "# Abre um arquivo txt já existente\n",
    "arquivo = open('texto.txt')\n",
    "arquivo.read()"
   ]
  },
  {
   "cell_type": "code",
   "execution_count": 67,
   "id": "2ac40c22-3e8c-4cf4-ab68-2cf68e6a1f8c",
   "metadata": {},
   "outputs": [
    {
     "name": "stdout",
     "output_type": "stream",
     "text": [
      "Overwriting herois.txt\n"
     ]
    }
   ],
   "source": [
    "%%writefile herois.txt\n",
    "Batman, DC\n",
    "Homem de Ferro, Marvel\n",
    "Thor, Marvel\n",
    "Superman, DC\n",
    "Capitao America, Marvel\n",
    "Homem-Aranha, Marvel\n",
    "Flash, DC\n",
    "Viuva-Negra, Marvel\n",
    "Mulher-Maravilha, DC\n",
    "Lanterna-Verde, DC"
   ]
  },
  {
   "cell_type": "code",
   "execution_count": 32,
   "id": "1909ac42-0d6a-417c-8189-75d3a404b838",
   "metadata": {},
   "outputs": [],
   "source": [
    "arquivo = open('herois.txt')"
   ]
  },
  {
   "cell_type": "code",
   "execution_count": 33,
   "id": "789f13ff-5e47-4ca9-ae14-ba6754c834ad",
   "metadata": {},
   "outputs": [
    {
     "data": {
      "text/plain": [
       "'Batman, DC\\n'"
      ]
     },
     "execution_count": 33,
     "metadata": {},
     "output_type": "execute_result"
    }
   ],
   "source": [
    "arquivo.read()"
   ]
  },
  {
   "cell_type": "code",
   "execution_count": 53,
   "id": "cadd8b2f-b37e-4117-a593-e4e1ff006d5c",
   "metadata": {},
   "outputs": [
    {
     "data": {
      "text/plain": [
       "'Batman, DC\\nHomem de Ferro, Marvel\\n'"
      ]
     },
     "execution_count": 53,
     "metadata": {},
     "output_type": "execute_result"
    }
   ],
   "source": [
    "arquivo.seek(0)\n",
    "arquivo.read()"
   ]
  },
  {
   "cell_type": "code",
   "execution_count": 69,
   "id": "5426d9c4-fdc5-4797-b833-dcef1b917350",
   "metadata": {},
   "outputs": [
    {
     "name": "stdout",
     "output_type": "stream",
     "text": [
      "Batman, DC\n",
      "\n",
      "Homem de Ferro, Marvel\n",
      "\n",
      "Thor, Marvel\n",
      "\n",
      "Superman, DC\n",
      "\n",
      "Capitao America, Marvel\n",
      "\n",
      "Homem-Aranha, Marvel\n",
      "\n",
      "Flash, DC\n",
      "\n",
      "Viuva-Negra, Marvel\n",
      "\n",
      "Mulher-Maravilha, DC\n",
      "\n",
      "Lanterna-Verde, DC\n",
      "\n"
     ]
    }
   ],
   "source": [
    "arquivo = open('herois.txt')\n",
    "print(arquivo.readline())\n",
    "print(arquivo.readline())\n",
    "print(arquivo.readline())\n",
    "print(arquivo.readline())\n",
    "print(arquivo.readline())\n",
    "print(arquivo.readline())\n",
    "print(arquivo.readline())\n",
    "print(arquivo.readline())\n",
    "print(arquivo.readline())\n",
    "print(arquivo.readline())"
   ]
  },
  {
   "cell_type": "code",
   "execution_count": 70,
   "id": "a566f72f-3160-4881-8c78-2a32157719a3",
   "metadata": {},
   "outputs": [
    {
     "name": "stdout",
     "output_type": "stream",
     "text": [
      "Batman, DC\n",
      "\n",
      "Homem de Ferro, Marvel\n",
      "\n",
      "Thor, Marvel\n",
      "\n",
      "Superman, DC\n",
      "\n",
      "Capitao America, Marvel\n",
      "\n",
      "Homem-Aranha, Marvel\n",
      "\n",
      "Flash, DC\n",
      "\n",
      "Viuva-Negra, Marvel\n",
      "\n",
      "Mulher-Maravilha, DC\n",
      "\n",
      "Lanterna-Verde, DC\n",
      "\n"
     ]
    }
   ],
   "source": [
    "arquivo = open('herois.txt')\n",
    "for x in arquivo:\n",
    "    print(x)"
   ]
  },
  {
   "cell_type": "code",
   "execution_count": 17,
   "id": "8bfb141f-b95b-4594-8529-a3a627de0575",
   "metadata": {},
   "outputs": [
    {
     "name": "stdout",
     "output_type": "stream",
     "text": [
      "Overwriting esportes.txt\n"
     ]
    }
   ],
   "source": [
    "%%writefile esportes.txt\n",
    "Triatlo"
   ]
  },
  {
   "cell_type": "code",
   "execution_count": 18,
   "id": "00b935ba-1b6e-484b-8664-94bcb1f98a28",
   "metadata": {},
   "outputs": [
    {
     "name": "stdin",
     "output_type": "stream",
     "text": [
      "digite um esporte natacao\n",
      "digite um esporte ciclismo\n",
      "digite um esporte corrida\n",
      "digite um esporte triatlo\n",
      "digite um esporte judo\n"
     ]
    },
    {
     "name": "stdout",
     "output_type": "stream",
     "text": [
      "Esporte não válido\n"
     ]
    },
    {
     "name": "stdin",
     "output_type": "stream",
     "text": [
      "digite um esporte boxe\n",
      "digite um esporte volei\n"
     ]
    },
    {
     "name": "stdout",
     "output_type": "stream",
     "text": [
      "Esporte não válido\n"
     ]
    },
    {
     "name": "stdin",
     "output_type": "stream",
     "text": [
      "digite um esporte ginastica artistica\n"
     ]
    },
    {
     "name": "stdout",
     "output_type": "stream",
     "text": [
      "Esporte não válido\n"
     ]
    },
    {
     "name": "stdin",
     "output_type": "stream",
     "text": [
      "digite um esporte atletismo\n",
      "digite um esporte boxe\n"
     ]
    },
    {
     "name": "stdout",
     "output_type": "stream",
     "text": [
      "Triatlo\n",
      "\n",
      "\n",
      "\n",
      "natacao\n",
      "\n",
      "ciclismo\n",
      "\n",
      "corrida\n",
      "\n",
      "triatlo\n",
      "\n",
      "boxe\n",
      "\n",
      "atletismo\n",
      "\n",
      "boxe\n"
     ]
    }
   ],
   "source": [
    "lista=['triatlo', 'natacao', 'ciclismo', 'corrida', 'atletismo', 'boxe', 'futebol', 'beisebol', 'basquete' , 'esqui']\n",
    "arquivo = open('esportes.txt', 'a')\n",
    "for x in range(0, 10):\n",
    "    esporte = input('digite um esporte')\n",
    "    if esporte not in lista:\n",
    "        print('Esporte não válido')\n",
    "    else:\n",
    "        arquivo.write('\\n{}'.format(esporte))\n",
    "arquivo = open('esportes.txt')\n",
    "for y in arquivo:\n",
    "    print (y)"
   ]
  },
  {
   "cell_type": "code",
   "execution_count": 21,
   "id": "64dacb0b-36af-474c-bd15-bc6ccdff891e",
   "metadata": {},
   "outputs": [
    {
     "name": "stdout",
     "output_type": "stream",
     "text": [
      "Batman, DC\n",
      "\n",
      "Homem de Ferro, Marvel\n",
      "\n",
      "Thor, Marvel\n",
      "\n",
      "Superman, DC\n",
      "\n",
      "Capitao America, Marvel\n",
      "\n",
      "Homem-Aranha, Marvel\n",
      "\n",
      "Flash, DC\n",
      "\n",
      "Viuva-Negra, Marvel\n",
      "\n",
      "Mulher-Maravilha, DC\n",
      "\n",
      "Lanterna-Verde, DC\n",
      "\n"
     ]
    }
   ],
   "source": [
    "with open('herois.txt') as arquivo:\n",
    "    for x in arquivo:\n",
    "        print (x)"
   ]
  },
  {
   "cell_type": "code",
   "execution_count": 34,
   "id": "2d373f87-1938-4869-8d76-252b9f27aea3",
   "metadata": {},
   "outputs": [
    {
     "name": "stdout",
     "output_type": "stream",
     "text": [
      "fora de intervalo\n"
     ]
    }
   ],
   "source": [
    "# Desafio 1\n",
    "arquivo = open('ponto_float.txt')\n",
    "ponto=int(arquivo.read())\n",
    "if 0 <= ponto <= 25:\n",
    "    print('intervalo [0,25]')\n",
    "elif 25 < ponto <= 50:\n",
    "    print('intervalo [25, 50]')\n",
    "elif 50 < ponto <= 75:\n",
    "    print('intervalo [50, 75]')\n",
    "elif 75 < ponto <= 100:\n",
    "    print('intervalo [75, 100]')\n",
    "else:\n",
    "    print('fora de intervalo')"
   ]
  }
 ],
 "metadata": {
  "kernelspec": {
   "display_name": "Python 3 (ipykernel)",
   "language": "python",
   "name": "python3"
  },
  "language_info": {
   "codemirror_mode": {
    "name": "ipython",
    "version": 3
   },
   "file_extension": ".py",
   "mimetype": "text/x-python",
   "name": "python",
   "nbconvert_exporter": "python",
   "pygments_lexer": "ipython3",
   "version": "3.12.4"
  }
 },
 "nbformat": 4,
 "nbformat_minor": 5
}
